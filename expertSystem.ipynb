{
 "cells": [
  {
   "cell_type": "markdown",
   "metadata": {},
   "source": [
    "# Project: Expert System for Analyzing Player Statistics in La Liga: A Data-driven Approach. - [we use data downloaded from FBref on players in La Liga.]\n",
    "\n",
    "## Table of Contents\n",
    "<ul>\n",
    "    <li>\n",
    "        <a href=\"#intro\">\n",
    "            Introduction\n",
    "        </a>\n",
    "    </li>\n",
    "    <li>\n",
    "        <a href=\"#wrangling\">\n",
    "            Data Wrangling\n",
    "            <ol>\n",
    "            <li>\n",
    "                <a href=\"#Gathering\">Gathering Data</a>\n",
    "            </li>\n",
    "            <li>\n",
    "                <a href=\"#Assessing\">Assessing Data</a>\n",
    "            </li>\n",
    "            <li>\n",
    "                <a href=\"#Cleaning\">Cleaning Data</a>\n",
    "            </li>\n",
    "            </ol>\n",
    "        </a>\n",
    "    </li>\n",
    "    <li>\n",
    "        <a href=\"#eda\">\n",
    "            Exploratory Data Analysis\n",
    "        </a>\n",
    "    </li>\n",
    "    <li>\n",
    "        <a href=\"#ES\">\n",
    "            Expert System\n",
    "        </a>\n",
    "    </li>\n",
    "    <li>\n",
    "        <a href=\"#mlm\">\n",
    "            Machine Learning Model\n",
    "        </a>\n",
    "    </li>\n",
    "    <li>\n",
    "        <a href=\"#conclusions\">\n",
    "            Conclusions\n",
    "        </a>\n",
    "    </li>\n",
    "</ul>"
   ]
  },
  {
   "cell_type": "markdown",
   "metadata": {},
   "source": [
    "<a id='intro'></a>\n",
    "## Introduction\n",
    "\n",
    "### Dataset Description \n",
    "\n",
    "> **Tip**: In this section of the report, provide a brief introduction to the dataset you've selected/downloaded for analysis. Read through the description available on the homepage-links present [here](https://fbref.com/en/comps/8/passing/Champions-League-Stats). List all column names in each table, and their significance. In case of multiple tables, describe the relationship between tables. \n"
   ]
  },
  {
   "cell_type": "code",
   "execution_count": 1,
   "metadata": {
    "collapsed": false,
    "jupyter": {
     "outputs_hidden": false
    }
   },
   "outputs": [],
   "source": [
    "#ipython kernel install --user --name=venv\n",
    "#importing necessary libraries\n",
    "import pandas as pd\n",
    "import numpy as np\n",
    "import matplotlib.pyplot as plt\n",
    "import statsmodels.formula.api as smf\n",
    "%matplotlib inline\n",
    "\n",
    "from sklearn import linear_model\n",
    "from sklearn.linear_model import LinearRegression\n",
    "import sklearn\n",
    "from sklearn.model_selection import train_test_split\n",
    "from sklearn.linear_model import LinearRegression\n",
    "from sklearn.metrics import r2_score, mean_squared_error, mean_absolute_error\n"
   ]
  },
  {
   "cell_type": "markdown",
   "metadata": {},
   "source": [
    "<a id='wrangling'></a>\n",
    "## Data Wrangling\n",
    "\n",
    "> **Tip**: In this section of the report, you will load in the data, check for cleanliness, and then trim and clean your dataset for analysis. Make sure that you **document your data cleaning steps in mark-down cells precisely and justify your cleaning decisions.**"
   ]
  },
  {
   "cell_type": "markdown",
   "metadata": {},
   "source": [
    "Data Wrangling which include :\n",
    "\n",
    "    1.Gathering Data\n",
    "    2.Assessing Data\n",
    "    3.cleaning Data"
   ]
  },
  {
   "cell_type": "markdown",
   "metadata": {},
   "source": [
    "<a id='Gathering'></a>\n",
    "## Gathering Data\n",
    "In this example we use data downloaded from [FBref](https://fbref.com/en/comps/12/2021-2022/stats/2021-2022-La-Liga-Stats) on players in La Liga.\n",
    "We just use the age and minutes played columns.\n",
    "And we only take the first 15 observations, to help visualise the process.\n",
    "Download [playerstats.csv](https://github.com/soccermatics/Soccermatics/blob/main/course/lessons/lesson2/playerstats.csv)\n",
    "your working directory."
   ]
  },
  {
   "cell_type": "code",
   "execution_count": 2,
   "metadata": {},
   "outputs": [],
   "source": [
    "laliga_df=pd.read_csv(\"playerstats.csv\",delimiter=',')"
   ]
  },
  {
   "cell_type": "code",
   "execution_count": 3,
   "metadata": {},
   "outputs": [
    {
     "data": {
      "text/html": [
       "<div>\n",
       "<style scoped>\n",
       "    .dataframe tbody tr th:only-of-type {\n",
       "        vertical-align: middle;\n",
       "    }\n",
       "\n",
       "    .dataframe tbody tr th {\n",
       "        vertical-align: top;\n",
       "    }\n",
       "\n",
       "    .dataframe thead th {\n",
       "        text-align: right;\n",
       "    }\n",
       "</style>\n",
       "<table border=\"1\" class=\"dataframe\">\n",
       "  <thead>\n",
       "    <tr style=\"text-align: right;\">\n",
       "      <th></th>\n",
       "      <th>id</th>\n",
       "      <th>name</th>\n",
       "      <th>Nation</th>\n",
       "      <th>Pos</th>\n",
       "      <th>Squad</th>\n",
       "      <th>Age</th>\n",
       "      <th>Born</th>\n",
       "      <th>MP</th>\n",
       "      <th>Starts</th>\n",
       "      <th>Min</th>\n",
       "      <th>90s</th>\n",
       "      <th>Gls</th>\n",
       "      <th>Ast</th>\n",
       "      <th>CrdY</th>\n",
       "      <th>CrdR</th>\n",
       "    </tr>\n",
       "  </thead>\n",
       "  <tbody>\n",
       "    <tr>\n",
       "      <th>0</th>\n",
       "      <td>1</td>\n",
       "      <td>Luis Abram</td>\n",
       "      <td>pe PER</td>\n",
       "      <td>DF</td>\n",
       "      <td>Granada</td>\n",
       "      <td>25.0</td>\n",
       "      <td>1996.0</td>\n",
       "      <td>8</td>\n",
       "      <td>6</td>\n",
       "      <td>560</td>\n",
       "      <td>6.2</td>\n",
       "      <td>0</td>\n",
       "      <td>0</td>\n",
       "      <td>2</td>\n",
       "      <td>0</td>\n",
       "    </tr>\n",
       "    <tr>\n",
       "      <th>1</th>\n",
       "      <td>2</td>\n",
       "      <td>Marcos Acuña</td>\n",
       "      <td>ar ARG</td>\n",
       "      <td>DF</td>\n",
       "      <td>Sevilla</td>\n",
       "      <td>29.0</td>\n",
       "      <td>1991.0</td>\n",
       "      <td>31</td>\n",
       "      <td>26</td>\n",
       "      <td>2260</td>\n",
       "      <td>25.1</td>\n",
       "      <td>1</td>\n",
       "      <td>3</td>\n",
       "      <td>10</td>\n",
       "      <td>0</td>\n",
       "    </tr>\n",
       "    <tr>\n",
       "      <th>2</th>\n",
       "      <td>3</td>\n",
       "      <td>Martin Agirregabiria</td>\n",
       "      <td>es ESP</td>\n",
       "      <td>DF</td>\n",
       "      <td>Alavés</td>\n",
       "      <td>25.0</td>\n",
       "      <td>1996.0</td>\n",
       "      <td>24</td>\n",
       "      <td>17</td>\n",
       "      <td>1616</td>\n",
       "      <td>18.0</td>\n",
       "      <td>0</td>\n",
       "      <td>1</td>\n",
       "      <td>4</td>\n",
       "      <td>0</td>\n",
       "    </tr>\n",
       "    <tr>\n",
       "      <th>3</th>\n",
       "      <td>4</td>\n",
       "      <td>Julen Agirrezabala</td>\n",
       "      <td>es ESP</td>\n",
       "      <td>GK</td>\n",
       "      <td>Athletic Club</td>\n",
       "      <td>20.0</td>\n",
       "      <td>2000.0</td>\n",
       "      <td>4</td>\n",
       "      <td>4</td>\n",
       "      <td>360</td>\n",
       "      <td>4.0</td>\n",
       "      <td>0</td>\n",
       "      <td>0</td>\n",
       "      <td>0</td>\n",
       "      <td>0</td>\n",
       "    </tr>\n",
       "    <tr>\n",
       "      <th>4</th>\n",
       "      <td>5</td>\n",
       "      <td>Sergio Agüero</td>\n",
       "      <td>ar ARG</td>\n",
       "      <td>FW</td>\n",
       "      <td>Barcelona</td>\n",
       "      <td>33.0</td>\n",
       "      <td>1988.0</td>\n",
       "      <td>4</td>\n",
       "      <td>2</td>\n",
       "      <td>151</td>\n",
       "      <td>1.7</td>\n",
       "      <td>1</td>\n",
       "      <td>0</td>\n",
       "      <td>0</td>\n",
       "      <td>0</td>\n",
       "    </tr>\n",
       "  </tbody>\n",
       "</table>\n",
       "</div>"
      ],
      "text/plain": [
       "   id                  name  Nation Pos          Squad   Age    Born  MP  \\\n",
       "0   1            Luis Abram  pe PER  DF        Granada  25.0  1996.0   8   \n",
       "1   2          Marcos Acuña  ar ARG  DF        Sevilla  29.0  1991.0  31   \n",
       "2   3  Martin Agirregabiria  es ESP  DF         Alavés  25.0  1996.0  24   \n",
       "3   4    Julen Agirrezabala  es ESP  GK  Athletic Club  20.0  2000.0   4   \n",
       "4   5         Sergio Agüero  ar ARG  FW      Barcelona  33.0  1988.0   4   \n",
       "\n",
       "   Starts   Min   90s  Gls  Ast  CrdY  CrdR  \n",
       "0       6   560   6.2    0    0     2     0  \n",
       "1      26  2260  25.1    1    3    10     0  \n",
       "2      17  1616  18.0    0    1     4     0  \n",
       "3       4   360   4.0    0    0     0     0  \n",
       "4       2   151   1.7    1    0     0     0  "
      ]
     },
     "execution_count": 3,
     "metadata": {},
     "output_type": "execute_result"
    }
   ],
   "source": [
    "laliga_df.head()"
   ]
  },
  {
   "cell_type": "markdown",
   "metadata": {},
   "source": [
    "#### Data Dictionary\n",
    "\n",
    "01 - id     : player id.\n",
    "\n",
    "02 - name   : player name.\n",
    "\n",
    "03 - Nation : player nationality.\n",
    "\n",
    "04 - pos    : the player position.\n",
    "\n",
    "05 - Squad  : the club where player play in.\n",
    "\n",
    "06 - Age    : How old is the player.\n",
    "   \n",
    "07 - Born   : the year Where player born in.\n",
    "\n",
    "08 - MP     : the number of matches that player play\n",
    "\n",
    "09 - Starts : the number of matches that player start playing in it.\n",
    "\n",
    "10 - Min    : the number of matches that player play in all matches\n",
    "\n",
    "11 - 90s    : the number of matches that player play if he play from the beginning of the match to the end\n",
    "\n",
    "12 - Gls    : the number of goals that player acheives in all matches\n",
    "\n",
    "13 - Ast    : the number of goals that player acheives in all matches\n",
    "\n",
    "14 - CrdY   : the number of yellow cards that player took in all matches\n",
    "\n",
    "15 - CrdR   : the number of red cards that player took in all matches"
   ]
  },
  {
   "cell_type": "markdown",
   "metadata": {},
   "source": [
    "<a id='Assessing'></a>\n",
    "## Assessing Data \n",
    "We assessing our data using some function like : shape , ndim , dtypes , size  , info() , nunique() , isnull()"
   ]
  },
  {
   "cell_type": "code",
   "execution_count": 4,
   "metadata": {},
   "outputs": [
    {
     "data": {
      "text/plain": [
       "(617, 15)"
      ]
     },
     "execution_count": 4,
     "metadata": {},
     "output_type": "execute_result"
    }
   ],
   "source": [
    "# return number of columns and number of row\n",
    "laliga_df.shape"
   ]
  },
  {
   "cell_type": "code",
   "execution_count": 5,
   "metadata": {},
   "outputs": [
    {
     "data": {
      "text/plain": [
       "2"
      ]
     },
     "execution_count": 5,
     "metadata": {},
     "output_type": "execute_result"
    }
   ],
   "source": [
    "#return number of dimensions of data\n",
    "laliga_df.ndim"
   ]
  },
  {
   "cell_type": "code",
   "execution_count": 6,
   "metadata": {},
   "outputs": [
    {
     "data": {
      "text/plain": [
       "id          int64\n",
       "name       object\n",
       "Nation     object\n",
       "Pos        object\n",
       "Squad      object\n",
       "Age       float64\n",
       "Born      float64\n",
       "MP          int64\n",
       "Starts      int64\n",
       "Min         int64\n",
       "90s       float64\n",
       "Gls         int64\n",
       "Ast         int64\n",
       "CrdY        int64\n",
       "CrdR        int64\n",
       "dtype: object"
      ]
     },
     "execution_count": 6,
     "metadata": {},
     "output_type": "execute_result"
    }
   ],
   "source": [
    "#return types of each column\n",
    "laliga_df.dtypes"
   ]
  },
  {
   "cell_type": "code",
   "execution_count": 7,
   "metadata": {},
   "outputs": [
    {
     "data": {
      "text/plain": [
       "id        617\n",
       "name      603\n",
       "Nation     64\n",
       "Pos        11\n",
       "Squad      20\n",
       "Age        25\n",
       "Born       24\n",
       "MP         38\n",
       "Starts     39\n",
       "Min       516\n",
       "90s       270\n",
       "Gls        19\n",
       "Ast        13\n",
       "CrdY       15\n",
       "CrdR        3\n",
       "dtype: int64"
      ]
     },
     "execution_count": 7,
     "metadata": {},
     "output_type": "execute_result"
    }
   ],
   "source": [
    "#return number of unique value\n",
    "laliga_df.nunique()"
   ]
  },
  {
   "cell_type": "code",
   "execution_count": 8,
   "metadata": {},
   "outputs": [
    {
     "data": {
      "text/plain": [
       "id        False\n",
       "name      False\n",
       "Nation     True\n",
       "Pos       False\n",
       "Squad     False\n",
       "Age        True\n",
       "Born       True\n",
       "MP        False\n",
       "Starts    False\n",
       "Min       False\n",
       "90s       False\n",
       "Gls       False\n",
       "Ast       False\n",
       "CrdY      False\n",
       "CrdR      False\n",
       "dtype: bool"
      ]
     },
     "execution_count": 8,
     "metadata": {},
     "output_type": "execute_result"
    }
   ],
   "source": [
    "# return which value is nul or not for each columns in DataSet \n",
    "laliga_df.isnull().any()"
   ]
  },
  {
   "cell_type": "code",
   "execution_count": 9,
   "metadata": {},
   "outputs": [
    {
     "data": {
      "text/plain": [
       "3"
      ]
     },
     "execution_count": 9,
     "metadata": {},
     "output_type": "execute_result"
    }
   ],
   "source": [
    "#return number of columns has a null value\n",
    "laliga_df.isnull().any().sum()"
   ]
  },
  {
   "cell_type": "code",
   "execution_count": 10,
   "metadata": {},
   "outputs": [
    {
     "data": {
      "text/plain": [
       "id        0\n",
       "name      0\n",
       "Nation    1\n",
       "Pos       0\n",
       "Squad     0\n",
       "Age       1\n",
       "Born      1\n",
       "MP        0\n",
       "Starts    0\n",
       "Min       0\n",
       "90s       0\n",
       "Gls       0\n",
       "Ast       0\n",
       "CrdY      0\n",
       "CrdR      0\n",
       "dtype: int64"
      ]
     },
     "execution_count": 10,
     "metadata": {},
     "output_type": "execute_result"
    }
   ],
   "source": [
    "#return number of columns has a null value\n",
    "laliga_df.isnull().sum()"
   ]
  },
  {
   "cell_type": "code",
   "execution_count": 11,
   "metadata": {},
   "outputs": [
    {
     "name": "stdout",
     "output_type": "stream",
     "text": [
      "<class 'pandas.core.frame.DataFrame'>\n",
      "RangeIndex: 617 entries, 0 to 616\n",
      "Data columns (total 15 columns):\n",
      " #   Column  Non-Null Count  Dtype  \n",
      "---  ------  --------------  -----  \n",
      " 0   id      617 non-null    int64  \n",
      " 1   name    617 non-null    object \n",
      " 2   Nation  616 non-null    object \n",
      " 3   Pos     617 non-null    object \n",
      " 4   Squad   617 non-null    object \n",
      " 5   Age     616 non-null    float64\n",
      " 6   Born    616 non-null    float64\n",
      " 7   MP      617 non-null    int64  \n",
      " 8   Starts  617 non-null    int64  \n",
      " 9   Min     617 non-null    int64  \n",
      " 10  90s     617 non-null    float64\n",
      " 11  Gls     617 non-null    int64  \n",
      " 12  Ast     617 non-null    int64  \n",
      " 13  CrdY    617 non-null    int64  \n",
      " 14  CrdR    617 non-null    int64  \n",
      "dtypes: float64(3), int64(8), object(4)\n",
      "memory usage: 72.4+ KB\n"
     ]
    }
   ],
   "source": [
    "laliga_df.info()"
   ]
  },
  {
   "cell_type": "markdown",
   "metadata": {},
   "source": [
    "<a id='Cleaning'></a>\n",
    "## Data Cleaning\n",
    "> **Tip**: Make sure that you keep your reader informed on the steps that you are taking in your investigation. Follow every code cell, or every set of related code cells, with a markdown cell to describe to the reader what was found in the preceding cell(s). Try to make it so that the reader can then understand what they will be seeing in the following cell(s).\n",
    "\n",
    "    1.duplicated data\n",
    "    \n",
    "    2.missing value\n",
    "    \n",
    "    3.incorrect datatype"
   ]
  },
  {
   "cell_type": "markdown",
   "metadata": {},
   "source": [
    "### duplicicated data"
   ]
  },
  {
   "cell_type": "code",
   "execution_count": 12,
   "metadata": {},
   "outputs": [
    {
     "data": {
      "text/plain": [
       "0"
      ]
     },
     "execution_count": 12,
     "metadata": {},
     "output_type": "execute_result"
    }
   ],
   "source": [
    "#check for duplicated data\n",
    "sum(laliga_df.duplicated())"
   ]
  },
  {
   "cell_type": "markdown",
   "metadata": {},
   "source": [
    "### missing value"
   ]
  },
  {
   "cell_type": "code",
   "execution_count": 13,
   "metadata": {},
   "outputs": [],
   "source": [
    "laliga_df.dropna(inplace = True)"
   ]
  },
  {
   "cell_type": "markdown",
   "metadata": {},
   "source": [
    "### incorrect datatype"
   ]
  },
  {
   "cell_type": "code",
   "execution_count": 14,
   "metadata": {},
   "outputs": [],
   "source": [
    "laliga_df[['Age','Born']] = laliga_df[['Age','Born']].astype('Int64')"
   ]
  },
  {
   "cell_type": "code",
   "execution_count": 15,
   "metadata": {},
   "outputs": [
    {
     "name": "stdout",
     "output_type": "stream",
     "text": [
      "<class 'pandas.core.frame.DataFrame'>\n",
      "Index: 616 entries, 0 to 616\n",
      "Data columns (total 15 columns):\n",
      " #   Column  Non-Null Count  Dtype  \n",
      "---  ------  --------------  -----  \n",
      " 0   id      616 non-null    int64  \n",
      " 1   name    616 non-null    object \n",
      " 2   Nation  616 non-null    object \n",
      " 3   Pos     616 non-null    object \n",
      " 4   Squad   616 non-null    object \n",
      " 5   Age     616 non-null    Int64  \n",
      " 6   Born    616 non-null    Int64  \n",
      " 7   MP      616 non-null    int64  \n",
      " 8   Starts  616 non-null    int64  \n",
      " 9   Min     616 non-null    int64  \n",
      " 10  90s     616 non-null    float64\n",
      " 11  Gls     616 non-null    int64  \n",
      " 12  Ast     616 non-null    int64  \n",
      " 13  CrdY    616 non-null    int64  \n",
      " 14  CrdR    616 non-null    int64  \n",
      "dtypes: Int64(2), float64(1), int64(8), object(4)\n",
      "memory usage: 78.2+ KB\n"
     ]
    }
   ],
   "source": [
    "laliga_df.info()"
   ]
  },
  {
   "cell_type": "code",
   "execution_count": 16,
   "metadata": {},
   "outputs": [],
   "source": [
    "laliga_df.to_csv(\"playerstatsProcessed.csv\", encoding='utf-8',index=False)"
   ]
  },
  {
   "cell_type": "code",
   "execution_count": 17,
   "metadata": {},
   "outputs": [],
   "source": [
    "laliga_df_processed = pd.read_csv(\"playerstatsProcessed.csv\",delimiter=',')"
   ]
  },
  {
   "cell_type": "code",
   "execution_count": 18,
   "metadata": {},
   "outputs": [
    {
     "data": {
      "text/html": [
       "<div>\n",
       "<style scoped>\n",
       "    .dataframe tbody tr th:only-of-type {\n",
       "        vertical-align: middle;\n",
       "    }\n",
       "\n",
       "    .dataframe tbody tr th {\n",
       "        vertical-align: top;\n",
       "    }\n",
       "\n",
       "    .dataframe thead th {\n",
       "        text-align: right;\n",
       "    }\n",
       "</style>\n",
       "<table border=\"1\" class=\"dataframe\">\n",
       "  <thead>\n",
       "    <tr style=\"text-align: right;\">\n",
       "      <th></th>\n",
       "      <th>id</th>\n",
       "      <th>name</th>\n",
       "      <th>Nation</th>\n",
       "      <th>Pos</th>\n",
       "      <th>Squad</th>\n",
       "      <th>Age</th>\n",
       "      <th>Born</th>\n",
       "      <th>MP</th>\n",
       "      <th>Starts</th>\n",
       "      <th>Min</th>\n",
       "      <th>90s</th>\n",
       "      <th>Gls</th>\n",
       "      <th>Ast</th>\n",
       "      <th>CrdY</th>\n",
       "      <th>CrdR</th>\n",
       "    </tr>\n",
       "  </thead>\n",
       "  <tbody>\n",
       "    <tr>\n",
       "      <th>0</th>\n",
       "      <td>1</td>\n",
       "      <td>Luis Abram</td>\n",
       "      <td>pe PER</td>\n",
       "      <td>DF</td>\n",
       "      <td>Granada</td>\n",
       "      <td>25</td>\n",
       "      <td>1996</td>\n",
       "      <td>8</td>\n",
       "      <td>6</td>\n",
       "      <td>560</td>\n",
       "      <td>6.2</td>\n",
       "      <td>0</td>\n",
       "      <td>0</td>\n",
       "      <td>2</td>\n",
       "      <td>0</td>\n",
       "    </tr>\n",
       "    <tr>\n",
       "      <th>1</th>\n",
       "      <td>2</td>\n",
       "      <td>Marcos Acuña</td>\n",
       "      <td>ar ARG</td>\n",
       "      <td>DF</td>\n",
       "      <td>Sevilla</td>\n",
       "      <td>29</td>\n",
       "      <td>1991</td>\n",
       "      <td>31</td>\n",
       "      <td>26</td>\n",
       "      <td>2260</td>\n",
       "      <td>25.1</td>\n",
       "      <td>1</td>\n",
       "      <td>3</td>\n",
       "      <td>10</td>\n",
       "      <td>0</td>\n",
       "    </tr>\n",
       "    <tr>\n",
       "      <th>2</th>\n",
       "      <td>3</td>\n",
       "      <td>Martin Agirregabiria</td>\n",
       "      <td>es ESP</td>\n",
       "      <td>DF</td>\n",
       "      <td>Alavés</td>\n",
       "      <td>25</td>\n",
       "      <td>1996</td>\n",
       "      <td>24</td>\n",
       "      <td>17</td>\n",
       "      <td>1616</td>\n",
       "      <td>18.0</td>\n",
       "      <td>0</td>\n",
       "      <td>1</td>\n",
       "      <td>4</td>\n",
       "      <td>0</td>\n",
       "    </tr>\n",
       "    <tr>\n",
       "      <th>3</th>\n",
       "      <td>4</td>\n",
       "      <td>Julen Agirrezabala</td>\n",
       "      <td>es ESP</td>\n",
       "      <td>GK</td>\n",
       "      <td>Athletic Club</td>\n",
       "      <td>20</td>\n",
       "      <td>2000</td>\n",
       "      <td>4</td>\n",
       "      <td>4</td>\n",
       "      <td>360</td>\n",
       "      <td>4.0</td>\n",
       "      <td>0</td>\n",
       "      <td>0</td>\n",
       "      <td>0</td>\n",
       "      <td>0</td>\n",
       "    </tr>\n",
       "    <tr>\n",
       "      <th>4</th>\n",
       "      <td>5</td>\n",
       "      <td>Sergio Agüero</td>\n",
       "      <td>ar ARG</td>\n",
       "      <td>FW</td>\n",
       "      <td>Barcelona</td>\n",
       "      <td>33</td>\n",
       "      <td>1988</td>\n",
       "      <td>4</td>\n",
       "      <td>2</td>\n",
       "      <td>151</td>\n",
       "      <td>1.7</td>\n",
       "      <td>1</td>\n",
       "      <td>0</td>\n",
       "      <td>0</td>\n",
       "      <td>0</td>\n",
       "    </tr>\n",
       "  </tbody>\n",
       "</table>\n",
       "</div>"
      ],
      "text/plain": [
       "   id                  name  Nation Pos          Squad  Age  Born  MP  Starts  \\\n",
       "0   1            Luis Abram  pe PER  DF        Granada   25  1996   8       6   \n",
       "1   2          Marcos Acuña  ar ARG  DF        Sevilla   29  1991  31      26   \n",
       "2   3  Martin Agirregabiria  es ESP  DF         Alavés   25  1996  24      17   \n",
       "3   4    Julen Agirrezabala  es ESP  GK  Athletic Club   20  2000   4       4   \n",
       "4   5         Sergio Agüero  ar ARG  FW      Barcelona   33  1988   4       2   \n",
       "\n",
       "    Min   90s  Gls  Ast  CrdY  CrdR  \n",
       "0   560   6.2    0    0     2     0  \n",
       "1  2260  25.1    1    3    10     0  \n",
       "2  1616  18.0    0    1     4     0  \n",
       "3   360   4.0    0    0     0     0  \n",
       "4   151   1.7    1    0     0     0  "
      ]
     },
     "execution_count": 18,
     "metadata": {},
     "output_type": "execute_result"
    }
   ],
   "source": [
    "laliga_df_processed.head()"
   ]
  },
  {
   "cell_type": "code",
   "execution_count": 19,
   "metadata": {},
   "outputs": [
    {
     "name": "stdout",
     "output_type": "stream",
     "text": [
      "<class 'pandas.core.frame.DataFrame'>\n",
      "RangeIndex: 616 entries, 0 to 615\n",
      "Data columns (total 15 columns):\n",
      " #   Column  Non-Null Count  Dtype  \n",
      "---  ------  --------------  -----  \n",
      " 0   id      616 non-null    int64  \n",
      " 1   name    616 non-null    object \n",
      " 2   Nation  616 non-null    object \n",
      " 3   Pos     616 non-null    object \n",
      " 4   Squad   616 non-null    object \n",
      " 5   Age     616 non-null    int64  \n",
      " 6   Born    616 non-null    int64  \n",
      " 7   MP      616 non-null    int64  \n",
      " 8   Starts  616 non-null    int64  \n",
      " 9   Min     616 non-null    int64  \n",
      " 10  90s     616 non-null    float64\n",
      " 11  Gls     616 non-null    int64  \n",
      " 12  Ast     616 non-null    int64  \n",
      " 13  CrdY    616 non-null    int64  \n",
      " 14  CrdR    616 non-null    int64  \n",
      "dtypes: float64(1), int64(10), object(4)\n",
      "memory usage: 72.3+ KB\n"
     ]
    }
   ],
   "source": [
    "laliga_df_processed.info()"
   ]
  },
  {
   "cell_type": "markdown",
   "metadata": {},
   "source": [
    "<a id='eda'></a>\n",
    "## Exploratory Data Analysis"
   ]
  },
  {
   "cell_type": "code",
   "execution_count": 20,
   "metadata": {},
   "outputs": [
    {
     "data": {
      "text/html": [
       "<div>\n",
       "<style scoped>\n",
       "    .dataframe tbody tr th:only-of-type {\n",
       "        vertical-align: middle;\n",
       "    }\n",
       "\n",
       "    .dataframe tbody tr th {\n",
       "        vertical-align: top;\n",
       "    }\n",
       "\n",
       "    .dataframe thead th {\n",
       "        text-align: right;\n",
       "    }\n",
       "</style>\n",
       "<table border=\"1\" class=\"dataframe\">\n",
       "  <thead>\n",
       "    <tr style=\"text-align: right;\">\n",
       "      <th></th>\n",
       "      <th>Age</th>\n",
       "      <th>MP</th>\n",
       "      <th>Starts</th>\n",
       "      <th>Min</th>\n",
       "      <th>90s</th>\n",
       "      <th>Gls</th>\n",
       "      <th>Ast</th>\n",
       "      <th>CrdY</th>\n",
       "      <th>CrdR</th>\n",
       "    </tr>\n",
       "  </thead>\n",
       "  <tbody>\n",
       "    <tr>\n",
       "      <th>count</th>\n",
       "      <td>616.000000</td>\n",
       "      <td>616.000000</td>\n",
       "      <td>616.000000</td>\n",
       "      <td>616.000000</td>\n",
       "      <td>616.000000</td>\n",
       "      <td>616.000000</td>\n",
       "      <td>616.000000</td>\n",
       "      <td>616.000000</td>\n",
       "      <td>616.000000</td>\n",
       "    </tr>\n",
       "    <tr>\n",
       "      <th>mean</th>\n",
       "      <td>25.935065</td>\n",
       "      <td>19.157468</td>\n",
       "      <td>13.569805</td>\n",
       "      <td>1218.832792</td>\n",
       "      <td>13.542370</td>\n",
       "      <td>1.508117</td>\n",
       "      <td>1.077922</td>\n",
       "      <td>3.199675</td>\n",
       "      <td>0.149351</td>\n",
       "    </tr>\n",
       "    <tr>\n",
       "      <th>std</th>\n",
       "      <td>4.661101</td>\n",
       "      <td>11.714054</td>\n",
       "      <td>11.229389</td>\n",
       "      <td>962.335501</td>\n",
       "      <td>10.691594</td>\n",
       "      <td>2.890399</td>\n",
       "      <td>1.832081</td>\n",
       "      <td>3.055700</td>\n",
       "      <td>0.403762</td>\n",
       "    </tr>\n",
       "    <tr>\n",
       "      <th>min</th>\n",
       "      <td>16.000000</td>\n",
       "      <td>1.000000</td>\n",
       "      <td>0.000000</td>\n",
       "      <td>1.000000</td>\n",
       "      <td>0.000000</td>\n",
       "      <td>0.000000</td>\n",
       "      <td>0.000000</td>\n",
       "      <td>0.000000</td>\n",
       "      <td>0.000000</td>\n",
       "    </tr>\n",
       "    <tr>\n",
       "      <th>25%</th>\n",
       "      <td>22.000000</td>\n",
       "      <td>8.000000</td>\n",
       "      <td>3.000000</td>\n",
       "      <td>297.250000</td>\n",
       "      <td>3.300000</td>\n",
       "      <td>0.000000</td>\n",
       "      <td>0.000000</td>\n",
       "      <td>1.000000</td>\n",
       "      <td>0.000000</td>\n",
       "    </tr>\n",
       "    <tr>\n",
       "      <th>50%</th>\n",
       "      <td>26.000000</td>\n",
       "      <td>20.000000</td>\n",
       "      <td>12.000000</td>\n",
       "      <td>1109.500000</td>\n",
       "      <td>12.350000</td>\n",
       "      <td>0.000000</td>\n",
       "      <td>0.000000</td>\n",
       "      <td>2.000000</td>\n",
       "      <td>0.000000</td>\n",
       "    </tr>\n",
       "    <tr>\n",
       "      <th>75%</th>\n",
       "      <td>29.000000</td>\n",
       "      <td>30.000000</td>\n",
       "      <td>22.000000</td>\n",
       "      <td>1892.750000</td>\n",
       "      <td>21.025000</td>\n",
       "      <td>2.000000</td>\n",
       "      <td>1.250000</td>\n",
       "      <td>5.000000</td>\n",
       "      <td>0.000000</td>\n",
       "    </tr>\n",
       "    <tr>\n",
       "      <th>max</th>\n",
       "      <td>40.000000</td>\n",
       "      <td>38.000000</td>\n",
       "      <td>38.000000</td>\n",
       "      <td>3420.000000</td>\n",
       "      <td>38.000000</td>\n",
       "      <td>27.000000</td>\n",
       "      <td>13.000000</td>\n",
       "      <td>15.000000</td>\n",
       "      <td>2.000000</td>\n",
       "    </tr>\n",
       "  </tbody>\n",
       "</table>\n",
       "</div>"
      ],
      "text/plain": [
       "              Age          MP      Starts          Min         90s  \\\n",
       "count  616.000000  616.000000  616.000000   616.000000  616.000000   \n",
       "mean    25.935065   19.157468   13.569805  1218.832792   13.542370   \n",
       "std      4.661101   11.714054   11.229389   962.335501   10.691594   \n",
       "min     16.000000    1.000000    0.000000     1.000000    0.000000   \n",
       "25%     22.000000    8.000000    3.000000   297.250000    3.300000   \n",
       "50%     26.000000   20.000000   12.000000  1109.500000   12.350000   \n",
       "75%     29.000000   30.000000   22.000000  1892.750000   21.025000   \n",
       "max     40.000000   38.000000   38.000000  3420.000000   38.000000   \n",
       "\n",
       "              Gls         Ast        CrdY        CrdR  \n",
       "count  616.000000  616.000000  616.000000  616.000000  \n",
       "mean     1.508117    1.077922    3.199675    0.149351  \n",
       "std      2.890399    1.832081    3.055700    0.403762  \n",
       "min      0.000000    0.000000    0.000000    0.000000  \n",
       "25%      0.000000    0.000000    1.000000    0.000000  \n",
       "50%      0.000000    0.000000    2.000000    0.000000  \n",
       "75%      2.000000    1.250000    5.000000    0.000000  \n",
       "max     27.000000   13.000000   15.000000    2.000000  "
      ]
     },
     "execution_count": 20,
     "metadata": {},
     "output_type": "execute_result"
    }
   ],
   "source": [
    "#return statistical descriptive of dataset for each column\n",
    "laliga_df_processed[['Age', 'MP', 'Starts', 'Min', '90s', 'Gls', 'Ast', 'CrdY', 'CrdR']].describe()"
   ]
  },
  {
   "cell_type": "code",
   "execution_count": 21,
   "metadata": {},
   "outputs": [],
   "source": [
    "from statmeasures import statisticsMeasures"
   ]
  },
  {
   "cell_type": "code",
   "execution_count": 22,
   "metadata": {},
   "outputs": [
    {
     "data": {
      "image/png": "[encoded data removed]",
      "text/plain": [
       "<Figure size 1000x600 with 1 Axes>"
      ]
     },
     "metadata": {},
     "output_type": "display_data"
    }
   ],
   "source": [
    "statisticsMeasures('std')"
   ]
  },
  {
   "cell_type": "markdown",
   "metadata": {},
   "source": [
    "<a id='ES'></a>\n",
    "## Expert System\n",
    "\n",
    "Sure, let's start by defining the knowledge base, facts, rules, and the inference engine for an expert system using the data downloaded from FBref on players in La Liga. We'll focus on using the age and minutes played columns from the playerstatsProcessed.csv file"
   ]
  },
  {
   "cell_type": "markdown",
   "metadata": {},
   "source": [
    "Here's an outline of how we can structure these components:\n",
    "\n",
    "1. Knowledge Base:\n",
    "   \n",
    "    1. Read the data from the playerstats.csv file.\n",
    "    2. Extract the age and minutes played columns for the first 15 observations. \n",
    "\n",
    "2. Facts:\n",
    "\n",
    "   1. Define facts based on the extracted data.\n",
    "\n",
    "3. Rules:\n",
    "    \n",
    "    1. Define rules based on the relationships between age and minutes played.\n",
    "\n",
    "4. Inference Engine:\n",
    "\n",
    "    1. Apply rules to facts to derive conclusions."
   ]
  },
  {
   "cell_type": "markdown",
   "metadata": {},
   "source": [
    "In this implementation:\n",
    "\n",
    "1. We read the data from the playerstats.csv file and extract the age and minutes played columns for the first 15 observations.\n",
    "\n",
    "2. We define a simple rule stating that if a player's age is less than 25 and they have played more than 1000 minutes, they are considered a key player.\n",
    "\n",
    "3. The inference engine applies this rule to the facts derived from the knowledge base and generates conclusions."
   ]
  },
  {
   "cell_type": "code",
   "execution_count": 23,
   "metadata": {},
   "outputs": [
    {
     "name": "stdout",
     "output_type": "stream",
     "text": [
      "Julen Agirrezabala is a key player.\n",
      "Ilias Akhomach is a key player.\n",
      "Paul Akouokou is a key player.\n",
      "Tomás Alarcón is a key player.\n"
     ]
    }
   ],
   "source": [
    "import expertsys\n",
    "from expertsys import *\n",
    "file_path = \"playerstatsProcessed.csv\"\n",
    "data = read_data(file_path)\n",
    "conclusions = infer(data)\n",
    "for conclusion in conclusions:\n",
    "    print(conclusion)"
   ]
  },
  {
   "cell_type": "code",
   "execution_count": 24,
   "metadata": {},
   "outputs": [
    {
     "name": "stdout",
     "output_type": "stream",
     "text": [
      "                    name  Age   Min Classification\n",
      "0             Luis Abram   25   560   Unclassified\n",
      "1           Marcos Acuña   29  2260   Unclassified\n",
      "2   Martin Agirregabiria   25  1616   Unclassified\n",
      "3     Julen Agirrezabala   20   360      Promising\n",
      "4          Sergio Agüero   33   151   Unclassified\n",
      "5         Álvaro Aguirre   21     9   Unclassified\n",
      "6           Joseph Aidoo   25  2637   Unclassified\n",
      "7           Carlos Akapo   28  1844   Unclassified\n",
      "8         Ilias Akhomach   17   124      Promising\n",
      "9          Paul Akouokou   23   516      Promising\n",
      "10           David Alaba   29  2642   Unclassified\n",
      "11         Tomás Alarcón   22  1425      Promising\n",
      "12            Jordi Alba   32  2644   Unclassified\n",
      "13           Raúl Albiol   35  2465   Unclassified\n",
      "14          Paco Alcácer   27   787   Unclassified\n"
     ]
    }
   ],
   "source": [
    "# Apply the classification function to each row in the knowledge base\n",
    "data['Classification'] = data.apply(classify_players, axis=1)\n",
    "\n",
    "# Display the updated knowledge base with classifications\n",
    "print(data[['name', 'Age', 'Min', 'Classification']])"
   ]
  },
  {
   "cell_type": "markdown",
   "metadata": {},
   "source": [
    "<a id='mlm'></a>\n",
    "## Machine Learning Model"
   ]
  },
  {
   "cell_type": "code",
   "execution_count": 25,
   "metadata": {},
   "outputs": [
    {
     "data": {
      "image/png": "[encoded data removed]",
      "text/plain": [
       "<Figure size 640x480 with 1 Axes>"
      ]
     },
     "metadata": {},
     "output_type": "display_data"
    },
    {
     "data": {
      "image/png": "[encoded data removed]",
      "text/plain": [
       "<Figure size 640x480 with 1 Axes>"
      ]
     },
     "metadata": {},
     "output_type": "display_data"
    }
   ],
   "source": [
    "# Splitting the data into features (X) and target variable (y)\n",
    "X = laliga_df_processed[['Age']]\n",
    "y = laliga_df_processed['Min']\n",
    "\n",
    "\n",
    "# Splitting the data into training and testing sets (70% training, 30% testing)\n",
    "X_train, X_test, y_train, y_test = train_test_split(X, y, test_size=0.3, random_state=42)\n",
    "\n",
    "# Create a linear regression model\n",
    "model = LinearRegression()\n",
    "\n",
    "# Fit the model to the training data\n",
    "model.fit(X_train, y_train)\n",
    "\n",
    "# Make predictions on the testing data\n",
    "y_pred = model.predict(X_test)\n",
    "\n",
    "# Plot the training data and the linear regression line\n",
    "plt.scatter(X_train, y_train, color='blue', label='Training data')\n",
    "plt.plot(X_train, model.predict(X_train), color='red', label='Linear regression line')\n",
    "plt.xlabel('Age')\n",
    "plt.ylabel('Minutes Played')\n",
    "plt.title('Linear Regression: Age vs Minutes Played (Training Data)')\n",
    "plt.legend()\n",
    "plt.show()\n",
    "\n",
    "# Plot the testing data and the linear regression line\n",
    "plt.scatter(X_test, y_test, color='blue', label='Testing data')\n",
    "plt.plot(X_test, y_pred, color='red', label='Linear regression line')\n",
    "plt.xlabel('Age')\n",
    "plt.ylabel('Minutes Played')\n",
    "plt.title('Linear Regression: Age vs Minutes Played (Testing Data)')\n",
    "plt.legend()\n",
    "plt.show()\n"
   ]
  },
  {
   "cell_type": "markdown",
   "metadata": {},
   "source": [
    "### checking fitting for this code\n",
    "To check the goodness of fit for the linear regression model.\n",
    "you can use various metrics such as R-squared, mean squared error (MSE), or mean absolute error (MAE). Here's how you can calculate and print these metrics in Python"
   ]
  },
  {
   "cell_type": "code",
   "execution_count": 26,
   "metadata": {},
   "outputs": [
    {
     "name": "stdout",
     "output_type": "stream",
     "text": [
      "Training Set Performance:\n",
      "R-squared: 0.09971693103042589\n",
      "Mean Squared Error: 816575.6169752657\n",
      "Mean Absolute Error: 756.6823705132622\n",
      "\n",
      "Testing Set Performance:\n",
      "R-squared: 0.10815750490463505\n",
      "Mean Squared Error: 851238.5850682793\n",
      "Mean Absolute Error: 766.5179822566718\n"
     ]
    },
    {
     "data": {
      "image/png": "[encoded data removed]",
      "text/plain": [
       "<Figure size 640x480 with 1 Axes>"
      ]
     },
     "metadata": {},
     "output_type": "display_data"
    }
   ],
   "source": [
    "from sklearn.metrics import r2_score, mean_squared_error, mean_absolute_error\n",
    "\n",
    "# Evaluate training set performance\n",
    "y_train_pred = model.predict(X_train)\n",
    "r2_train = r2_score(y_train, y_train_pred)\n",
    "mse_train = mean_squared_error(y_train, y_train_pred)\n",
    "mae_train = mean_absolute_error(y_train, y_train_pred)\n",
    "\n",
    "print(\"Training Set Performance:\")\n",
    "print(\"R-squared:\", r2_train)\n",
    "print(\"Mean Squared Error:\", mse_train)\n",
    "print(\"Mean Absolute Error:\", mae_train)\n",
    "\n",
    "# Evaluate testing set performance\n",
    "r2_test = r2_score(y_test, y_pred)\n",
    "mse_test = mean_squared_error(y_test, y_pred)\n",
    "mae_test = mean_absolute_error(y_test, y_pred)\n",
    "\n",
    "print(\"\\nTesting Set Performance:\")\n",
    "print(\"R-squared:\", r2_test)\n",
    "print(\"Mean Squared Error:\", mse_test)\n",
    "print(\"Mean Absolute Error:\", mae_test)\n",
    "\n",
    "# Visual inspection\n",
    "plt.scatter(X_train, y_train, color='blue', label='Training data')\n",
    "plt.scatter(X_test, y_test, color='green', label='Testing data')\n",
    "plt.plot(X_train, model.predict(X_train), color='red', label='Linear regression line')\n",
    "plt.xlabel('Age')\n",
    "plt.ylabel('Minutes Played')\n",
    "plt.title('Linear Regression: Age vs Minutes Played')\n",
    "plt.legend()\n",
    "plt.show()\n"
   ]
  },
  {
   "cell_type": "markdown",
   "metadata": {},
   "source": [
    "<a id='conclusions'></a>\n",
    "## conclusions"
   ]
  },
  {
   "cell_type": "markdown",
   "metadata": {},
   "source": [
    "In conclusion, our project on \"Expert System for Analyzing Player Statistics in La Liga: A Data-driven Approach\" utilizes FBref data to develop a robust system. Through data gathering, cleaning, and exploratory analysis, we lay the groundwork for insightful player assessment. The expert system, coupled with a linear machine learning model, categorizes players based on age and minutes played, aiding teams and coaches in decision-making. This holistic approach underscores the significance of data-driven methodologies in sports analytics, offering actionable insights for player evaluation and team strategy optimization in La Liga and beyond."
   ]
  },
  {
   "cell_type": "code",
   "execution_count": 29,
   "metadata": {},
   "outputs": [
    {
     "name": "stderr",
     "output_type": "stream",
     "text": [
      "[NbConvertApp] WARNING | pattern 'to' matched no files\n",
      "[NbConvertApp] Converting notebook expertSystem.ipynb to html\n",
      "[NbConvertApp] WARNING | Alternative text is missing on 4 image(s).\n",
      "[NbConvertApp] Writing 560392 bytes to expertSystem.html\n"
     ]
    }
   ],
   "source": [
    "! jupyter nbconvert --to html to expertSystem.ipynb"
   ]
  },
  {
   "cell_type": "code",
   "execution_count": null,
   "metadata": {},
   "outputs": [],
   "source": []
  }
 ],
 "metadata": {
  "kernelspec": {
   "display_name": "soccervenv",
   "language": "python",
   "name": "soccervenv"
  },
  "language_info": {
   "codemirror_mode": {
    "name": "ipython",
    "version": 3
   },
   "file_extension": ".py",
   "mimetype": "text/x-python",
   "name": "python",
   "nbconvert_exporter": "python",
   "pygments_lexer": "ipython3",
   "version": "3.12.2"
  }
 },
 "nbformat": 4,
 "nbformat_minor": 4
}
